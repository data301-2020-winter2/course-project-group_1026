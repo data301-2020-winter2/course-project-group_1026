{
 "cells": [
  {
   "cell_type": "code",
   "execution_count": null,
   "id": "distant-running",
   "metadata": {},
   "outputs": [],
   "source": [
    "###Created group_1026 repos\n",
    "###Created all the files and READ.me's of the project.\n",
    "###Milstone 1: Finished question 2 in task 3.\n",
    "###For this project, we've chosen the US Census dataset from 2017. With this project, we hope to further our understanding of how we can use and manipulate data to produce conclusions that better our understanding of a topic. We chose this specific dataset because it's interest can help answer many questions one might have about how a certain population is distributed. This, in turn, can help address issues within society with policy. While we don’t currently have a question we want to explore, I do believe that the data we have currently has many directions or opportunities that other data sets don’t have. For example, the many columns allow us to compare and test multiple variables to answer any questions we may have. Finally, this data can be easily represented in a “dashboard” as indicated in the Project Milestones. The different variables that can be used will be reflected in a way that can be easily interpreted. \n",
    "\n",
    "\n"
   ]
  }
 ],
 "metadata": {
  "kernelspec": {
   "display_name": "Python 3",
   "language": "python",
   "name": "python3"
  },
  "language_info": {
   "codemirror_mode": {
    "name": "ipython",
    "version": 3
   },
   "file_extension": ".py",
   "mimetype": "text/x-python",
   "name": "python",
   "nbconvert_exporter": "python",
   "pygments_lexer": "ipython3",
   "version": "3.8.5"
  }
 },
 "nbformat": 4,
 "nbformat_minor": 5
}
