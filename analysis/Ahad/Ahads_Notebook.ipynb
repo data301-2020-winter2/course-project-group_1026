{
 "cells": [
  {
   "cell_type": "code",
   "execution_count": 5,
   "id": "still-fault",
   "metadata": {},
   "outputs": [
    {
     "name": "stdout",
     "output_type": "stream",
     "text": [
      "      TractId    State          County  TotalPop   Men  Women  Hispanic  \\\n",
      "0  1001020100  Alabama  Autauga County      1845   899    946       2.4   \n",
      "1  1001020200  Alabama  Autauga County      2172  1167   1005       1.1   \n",
      "2  1001020300  Alabama  Autauga County      3385  1533   1852       8.0   \n",
      "3  1001020400  Alabama  Autauga County      4267  2001   2266       9.6   \n",
      "4  1001020500  Alabama  Autauga County      9965  5054   4911       0.9   \n",
      "\n",
      "   White  Black  Native  ...  Walk  OtherTransp  WorkAtHome  MeanCommute  \\\n",
      "0   86.3    5.2     0.0  ...   0.5          0.0         2.1         24.5   \n",
      "1   41.6   54.5     0.0  ...   0.0          0.5         0.0         22.2   \n",
      "2   61.4   26.5     0.6  ...   1.0          0.8         1.5         23.1   \n",
      "3   80.3    7.1     0.5  ...   1.5          2.9         2.1         25.9   \n",
      "4   77.5   16.4     0.0  ...   0.8          0.3         0.7         21.0   \n",
      "\n",
      "   Employed  PrivateWork  PublicWork  SelfEmployed  FamilyWork  Unemployment  \n",
      "0       881         74.2        21.2           4.5         0.0           4.6  \n",
      "1       852         75.9        15.0           9.0         0.0           3.4  \n",
      "2      1482         73.3        21.1           4.8         0.7           4.7  \n",
      "3      1849         75.8        19.7           4.5         0.0           6.1  \n",
      "4      4787         71.4        24.1           4.5         0.0           2.3  \n",
      "\n",
      "[5 rows x 37 columns]\n"
     ]
    }
   ],
   "source": [
    "###Created group_1026 repos\n",
    "###Created all the files and READ.me's of the project.\n",
    "###Milstone 1: Finished question 2 in task 3.\n",
    "###For this project, we've chosen the US Census dataset from 2017. With this project, we hope to further our understanding of how we can use and manipulate data to produce conclusions that better our understanding of a topic. We chose this specific dataset because it's interest can help answer many questions one might have about how a certain population is distributed. This, in turn, can help address issues within society with policy. While we don’t currently have a question we want to explore, I do believe that the data we have currently has many directions or opportunities that other data sets don’t have. For example, the many columns allow us to compare and test multiple variables to answer any questions we may have. Finally, this data can be easily represented in a “dashboard” as indicated in the Project Milestones. The different variables that can be used will be reflected in a way that can be easily interpreted. \n",
    "\n",
    "import pandas as pd\n",
    "df=pd.read_csv(\"acs2017_census_tract_data.csv\")\n",
    "print(df.head())\n"
   ]
  },
  {
   "cell_type": "code",
   "execution_count": null,
   "id": "composed-scanning",
   "metadata": {},
   "outputs": [],
   "source": []
  }
 ],
 "metadata": {
  "kernelspec": {
   "display_name": "Python 3",
   "language": "python",
   "name": "python3"
  },
  "language_info": {
   "codemirror_mode": {
    "name": "ipython",
    "version": 3
   },
   "file_extension": ".py",
   "mimetype": "text/x-python",
   "name": "python",
   "nbconvert_exporter": "python",
   "pygments_lexer": "ipython3",
   "version": "3.8.5"
  }
 },
 "nbformat": 4,
 "nbformat_minor": 5
}
