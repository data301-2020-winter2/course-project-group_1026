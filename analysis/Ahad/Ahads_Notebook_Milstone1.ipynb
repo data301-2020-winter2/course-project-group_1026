{
 "cells": [
  {
   "cell_type": "code",
   "execution_count": 1,
   "id": "filled-birthday",
   "metadata": {},
   "outputs": [
    {
     "name": "stdout",
     "output_type": "stream",
     "text": [
      "   CountyId    State          County  TotalPop    Men   Women  Hispanic  \\\n",
      "0      1001  Alabama  Autauga County     55036  26899   28137       2.7   \n",
      "1      1003  Alabama  Baldwin County    203360  99527  103833       4.4   \n",
      "2      1005  Alabama  Barbour County     26201  13976   12225       4.2   \n",
      "3      1007  Alabama     Bibb County     22580  12251   10329       2.4   \n",
      "4      1009  Alabama   Blount County     57667  28490   29177       9.0   \n",
      "\n",
      "   White  Black  Native  ...  Walk  OtherTransp  WorkAtHome  MeanCommute  \\\n",
      "0   75.4   18.9     0.3  ...   0.6          1.3         2.5         25.8   \n",
      "1   83.1    9.5     0.8  ...   0.8          1.1         5.6         27.0   \n",
      "2   45.7   47.8     0.2  ...   2.2          1.7         1.3         23.4   \n",
      "3   74.6   22.0     0.4  ...   0.3          1.7         1.5         30.0   \n",
      "4   87.4    1.5     0.3  ...   0.4          0.4         2.1         35.0   \n",
      "\n",
      "   Employed  PrivateWork  PublicWork  SelfEmployed  FamilyWork  Unemployment  \n",
      "0     24112         74.1        20.2           5.6         0.1           5.2  \n",
      "1     89527         80.7        12.9           6.3         0.1           5.5  \n",
      "2      8878         74.1        19.1           6.5         0.3          12.4  \n",
      "3      8171         76.0        17.4           6.3         0.3           8.2  \n",
      "4     21380         83.9        11.9           4.0         0.1           4.9  \n",
      "\n",
      "[5 rows x 37 columns]\n"
     ]
    }
   ],
   "source": [
    "###Created group_1026 repos\n",
    "###Created all the files and READ.me's of the project.\n",
    "###Milstone 1: Finished question 2 in task 3.\n",
    "###For this project, we've chosen the US Census dataset from 2017. With this project, we hope to further our understanding of how we can use and manipulate data to produce conclusions that better our understanding of a topic. We chose this specific dataset because it's interest can help answer many questions one might have about how a certain population is distributed. This, in turn, can help address issues within society with policy. While we don’t currently have a question we want to explore, I do believe that the data we have currently has many directions or opportunities that other data sets don’t have. For example, the many columns allow us to compare and test multiple variables to answer any questions we may have. Finally, this data can be easily represented in a “dashboard” as indicated in the Project Milestones. The different variables that can be used will be reflected in a way that can be easily interpreted. \n",
    "\n",
    "import pandas as pd\n",
    "df=pd.read_csv(\"acs2017_county_data.csv\")\n",
    "print(df.head())\n",
    "\n",
    "###Imported Data via Panda\n"
   ]
  },
  {
   "cell_type": "code",
   "execution_count": null,
   "id": "spoken-royal",
   "metadata": {},
   "outputs": [],
   "source": []
  }
 ],
 "metadata": {
  "kernelspec": {
   "display_name": "Python 3",
   "language": "python",
   "name": "python3"
  },
  "language_info": {
   "codemirror_mode": {
    "name": "ipython",
    "version": 3
   },
   "file_extension": ".py",
   "mimetype": "text/x-python",
   "name": "python",
   "nbconvert_exporter": "python",
   "pygments_lexer": "ipython3",
   "version": "3.8.5"
  }
 },
 "nbformat": 4,
 "nbformat_minor": 5
}
